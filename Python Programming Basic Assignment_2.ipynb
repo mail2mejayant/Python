{
 "cells": [
  {
   "cell_type": "code",
   "execution_count": 4,
   "metadata": {},
   "outputs": [
    {
     "name": "stdout",
     "output_type": "stream",
     "text": [
      "Enter value kilometer:5\n",
      "The value of a in miles is 3.1\n"
     ]
    }
   ],
   "source": [
    "#Convert Kilometer to Miles\n",
    "#1km=0.62miles\n",
    "a=int(input(\"Enter value kilometer:\" ))\n",
    "b=0.62*a\n",
    "print(\"The value of a in miles is\", b)"
   ]
  },
  {
   "cell_type": "code",
   "execution_count": 5,
   "metadata": {},
   "outputs": [
    {
     "name": "stdout",
     "output_type": "stream",
     "text": [
      "Enter temperature value in celsius:0\n",
      "The value of temperature in fahrenheit is 32.0\n"
     ]
    }
   ],
   "source": [
    "#Convert celsius to fahrenheit\n",
    "#Formula (0°C × 9/5) + 32 \n",
    "x=int(input(\"Enter temperature value in celsius:\" ))\n",
    "y= (x*9/5)+32\n",
    "print(\"The value of temperature in fahrenheit is\", y)"
   ]
  },
  {
   "cell_type": "code",
   "execution_count": 9,
   "metadata": {},
   "outputs": [
    {
     "name": "stdout",
     "output_type": "stream",
     "text": [
      "Enter the year :2021\n",
      "Enter the month :5\n",
      "      May 2021\n",
      "Mo Tu We Th Fr Sa Su\n",
      "                1  2\n",
      " 3  4  5  6  7  8  9\n",
      "10 11 12 13 14 15 16\n",
      "17 18 19 20 21 22 23\n",
      "24 25 26 27 28 29 30\n",
      "31\n",
      "\n"
     ]
    }
   ],
   "source": [
    "#Display calendar for the month and year\n",
    "import calendar\n",
    "Year=int(input(\"Enter the year :\"))#\n",
    "Month=int(input(\"Enter the month :\"))\n",
    "print(calendar.month(Year,Month))"
   ]
  },
  {
   "cell_type": "code",
   "execution_count": 14,
   "metadata": {},
   "outputs": [
    {
     "name": "stdout",
     "output_type": "stream",
     "text": [
      "provide an integer value greater than zero: 1\n",
      "provide an integer value: 2\n",
      "provide an integer value: 3\n",
      "The solution are(-1-1.4142135623730951j) and (-1+1.4142135623730951j) \n"
     ]
    }
   ],
   "source": [
    "#To solve a quadratic equation\n",
    "#ax2+bx+c=0\n",
    "#x=(-b+-sqrt(b2-4ac))/ where 'a' is not equal to zero\n",
    "import cmath\n",
    "\n",
    "a != 0\n",
    "a = int(input(\"provide an integer value greater than zero: \"))\n",
    "b = int(input(\"provide an integer value: \"))\n",
    "c = int(input(\"provide an integer value: \"))\n",
    "\n",
    "\n",
    "d = (b**2) - (4*a*c)\n",
    "\n",
    "#Positive Solution & Negative Solution\n",
    "Positive_Solution = (-b-cmath.sqrt(d))/(2*a)\n",
    "Negative_Solution = (-b+cmath.sqrt(d))/(2*a)\n",
    "\n",
    "print('The solution are{0} and {1} '.format(Positive_Solution,Negative_Solution))\n"
   ]
  },
  {
   "cell_type": "code",
   "execution_count": 15,
   "metadata": {},
   "outputs": [
    {
     "name": "stdout",
     "output_type": "stream",
     "text": [
      "Before swapping: \n",
      "Value of x :  5  and y :  7\n",
      "After swapping: \n",
      "Value of x :  7  and y :  5\n"
     ]
    }
   ],
   "source": [
    "#swapping two variables without using third variable\n",
    "x = 5\n",
    "y = 7\n",
    " \n",
    "print (\"Before swapping: \")\n",
    "print(\"Value of x : \", x, \" and y : \", y)\n",
    " \n",
    "\n",
    "x, y = y, x\n",
    " \n",
    "print (\"After swapping: \")\n",
    "print(\"Value of x : \", x, \" and y : \", y)"
   ]
  },
  {
   "cell_type": "code",
   "execution_count": null,
   "metadata": {},
   "outputs": [],
   "source": []
  },
  {
   "cell_type": "code",
   "execution_count": null,
   "metadata": {},
   "outputs": [],
   "source": []
  }
 ],
 "metadata": {
  "kernelspec": {
   "display_name": "Python 3",
   "language": "python",
   "name": "python3"
  },
  "language_info": {
   "codemirror_mode": {
    "name": "ipython",
    "version": 3
   },
   "file_extension": ".py",
   "mimetype": "text/x-python",
   "name": "python",
   "nbconvert_exporter": "python",
   "pygments_lexer": "ipython3",
   "version": "3.7.3"
  }
 },
 "nbformat": 4,
 "nbformat_minor": 2
}
